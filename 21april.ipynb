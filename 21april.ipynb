{
 "cells": [
  {
   "cell_type": "code",
   "execution_count": 1,
   "id": "ac6352ef-1102-4d02-8278-f9fe497aadd3",
   "metadata": {},
   "outputs": [],
   "source": [
    "#1Euclidean distance is the shortest path between source and destination which is a straight line as shown in Figure 1.3. but Manhattan distance is sum of all the real distances between source(s) and destination(d) and each distance are always the straight lines as shown in Figure 1.4."
   ]
  },
  {
   "cell_type": "code",
   "execution_count": 2,
   "id": "2bc0f796-c78d-43c4-bba9-c26f479fafcc",
   "metadata": {},
   "outputs": [],
   "source": [
    "#2The optimal K value usually found is the square root of N, where N is the total number of samples. Use an error plot or accuracy plot to find the most favorable K value. KNN performs well with multi-label classes, but you must be aware of the outliers."
   ]
  },
  {
   "cell_type": "code",
   "execution_count": 3,
   "id": "30748eeb-39ac-4ae5-934d-0fe849816efb",
   "metadata": {},
   "outputs": [],
   "source": [
    "#3The effectiveness of a distance metric for optimizing the k-nearest neighbors (k-NN) algorithm depends on the nature of the data and the problem at hand. No one distance metric suits all types of data; the choice can be influenced by the scale of variables, distribution of the data points, and the presence of outliers"
   ]
  },
  {
   "cell_type": "code",
   "execution_count": 4,
   "id": "babeda6c-3875-4330-b3bc-f3f1fcc70fae",
   "metadata": {},
   "outputs": [],
   "source": [
    "#4\n",
    "#The number of neighbors to inspect in a KNN model is a hyperparameter. It is specified when you create the model.\n",
    "#The table of actual nearest neighbors in a KNN model is a parameter. ...\n",
    "#The max depth for a decision tree model is a hyperparameter. ...\n",
    "#The coefficients in a linear regression model are parameters."
   ]
  },
  {
   "cell_type": "code",
   "execution_count": null,
   "id": "4246dcb7-70c8-4bb7-a6f9-943a7f6ff3b6",
   "metadata": {},
   "outputs": [],
   "source": [
    "#5"
   ]
  }
 ],
 "metadata": {
  "kernelspec": {
   "display_name": "Python 3 (ipykernel)",
   "language": "python",
   "name": "python3"
  },
  "language_info": {
   "codemirror_mode": {
    "name": "ipython",
    "version": 3
   },
   "file_extension": ".py",
   "mimetype": "text/x-python",
   "name": "python",
   "nbconvert_exporter": "python",
   "pygments_lexer": "ipython3",
   "version": "3.10.8"
  }
 },
 "nbformat": 4,
 "nbformat_minor": 5
}
